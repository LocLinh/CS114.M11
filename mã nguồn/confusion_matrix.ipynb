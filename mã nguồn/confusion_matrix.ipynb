{
  "cells": [
    {
      "cell_type": "code",
      "execution_count": null,
      "metadata": {
        "id": "Q2Z51jw1CvEj"
      },
      "outputs": [],
      "source": [
        "from keras.preprocessing.image import ImageDataGenerator\n",
        "from keras.models import Sequential, Model\n",
        "from keras.layers import Conv2D, MaxPooling2D\n",
        "from keras.layers import Activation, Dropout, Flatten, Dense\n",
        "from tensorflow.keras.applications.xception import Xception\n",
        "import numpy as np\n",
        "import matplotlib.pyplot as plt\n",
        "import pandas as pd\n",
        "from glob import glob"
      ]
    },
    {
      "cell_type": "code",
      "execution_count": null,
      "metadata": {
        "colab": {
          "base_uri": "https://localhost:8080/"
        },
        "id": "Mn2HGAI3C-nz",
        "outputId": "65373eee-583e-47e3-aaa3-a337e7bb04de"
      },
      "outputs": [
        {
          "name": "stdout",
          "output_type": "stream",
          "text": [
            "Mounted at /content/drive\n"
          ]
        }
      ],
      "source": [
        "from google.colab import drive\n",
        "drive.mount('/content/drive')"
      ]
    },
    {
      "cell_type": "code",
      "execution_count": null,
      "metadata": {
        "colab": {
          "base_uri": "https://localhost:8080/"
        },
        "id": "ZlCkOEOPDUhk",
        "outputId": "27902f9c-c018-4e1c-d52d-8c219a3e5722"
      },
      "outputs": [
        {
          "name": "stdout",
          "output_type": "stream",
          "text": [
            "Loaded model from disk\n"
          ]
        }
      ],
      "source": [
        "from keras.models import model_from_json\n",
        "from keras.models import load_model\n",
        "\n",
        "json_file = open('/content/drive/MyDrive/model_xception/model.json', 'r')\n",
        "\n",
        "loaded_model_json = json_file.read()\n",
        "json_file.close()\n",
        "loaded_model = model_from_json(loaded_model_json)\n",
        "\n",
        "# load weights into new model\n",
        "loaded_model.load_weights(\"/content/drive/MyDrive/model_xception/model.h5\")\n",
        "print(\"Loaded model from disk\")"
      ]
    },
    {
      "cell_type": "code",
      "execution_count": null,
      "metadata": {
        "id": "JcG9-fATDaGb"
      },
      "outputs": [],
      "source": [
        "train_data_dir = '/content/drive/MyDrive/Data/Train'\n",
        "\n",
        "validation_data_dir = '/content/drive/MyDrive/Data/Test'\n",
        "\n",
        "IMAGE_SIZE = [224, 224]"
      ]
    },
    {
      "cell_type": "code",
      "execution_count": null,
      "metadata": {
        "colab": {
          "base_uri": "https://localhost:8080/"
        },
        "id": "70lVUMiWDfzC",
        "outputId": "cde4f34c-e485-4656-d373-b54625e7ef3e"
      },
      "outputs": [
        {
          "name": "stdout",
          "output_type": "stream",
          "text": [
            "Found 1050 images belonging to 21 classes.\n"
          ]
        }
      ],
      "source": [
        "test_datagen = ImageDataGenerator(rescale = 1./255)\n",
        "\n",
        "test_set = test_datagen.flow_from_directory(validation_data_dir,\n",
        "\n",
        "                                            target_size = (224, 224),\n",
        "\n",
        "                                            batch_size = 32,\n",
        "\n",
        "                                            class_mode = 'categorical')"
      ]
    },
    {
      "cell_type": "code",
      "execution_count": null,
      "metadata": {
        "colab": {
          "base_uri": "https://localhost:8080/"
        },
        "id": "z729NsxYDys7",
        "outputId": "82f879e7-ca20-4e91-a2ca-40ada1482877"
      },
      "outputs": [
        {
          "data": {
            "text/plain": [
              "['Ao quan',\n",
              " 'Bau troi',\n",
              " 'Bia sach',\n",
              " 'Bien',\n",
              " 'Cay coi',\n",
              " 'Chup man hinh',\n",
              " 'Dien thoai',\n",
              " 'Do an',\n",
              " 'Doi nui',\n",
              " 'Dong ruong',\n",
              " 'Duong pho',\n",
              " 'Giay',\n",
              " 'Hoa',\n",
              " 'Hoa don',\n",
              " 'Nguoi',\n",
              " 'Selfie',\n",
              " 'Song suoi ho',\n",
              " 'Tai lieu',\n",
              " 'Thu cung',\n",
              " 'Toa nha',\n",
              " 'Xe co']"
            ]
          },
          "execution_count": 6,
          "metadata": {},
          "output_type": "execute_result"
        }
      ],
      "source": [
        "labels = test_set.class_indices\n",
        "labels = list(labels.keys())\n",
        "labels"
      ]
    },
    {
      "cell_type": "code",
      "execution_count": null,
      "metadata": {
        "id": "SNCudzhpD-ak"
      },
      "outputs": [],
      "source": [
        "true_classes = test_set.classes\n",
        "\n",
        "class_labels = labels"
      ]
    },
    {
      "cell_type": "code",
      "execution_count": null,
      "metadata": {
        "id": "9Ky7z-dcEQgb"
      },
      "outputs": [],
      "source": [
        "predictions = loaded_model.predict(test_set)\n",
        "\n",
        "predicted_classes = np.argmax(predictions, axis=1)"
      ]
    },
    {
      "cell_type": "code",
      "execution_count": null,
      "metadata": {
        "colab": {
          "base_uri": "https://localhost:8080/"
        },
        "id": "swfICTfJm_K7",
        "outputId": "909283f4-9def-4556-d44b-3fe6a95d7ec4"
      },
      "outputs": [
        {
          "data": {
            "text/plain": [
              "1050"
            ]
          },
          "execution_count": 14,
          "metadata": {},
          "output_type": "execute_result"
        }
      ],
      "source": [
        "len(predicted_classes)"
      ]
    },
    {
      "cell_type": "code",
      "execution_count": null,
      "metadata": {
        "id": "dGMciirUEyf6"
      },
      "outputs": [],
      "source": [
        "import numpy as np\n",
        "\n",
        "from sklearn.metrics import classification_report\n",
        "\n",
        "from sklearn.metrics import confusion_matrix\n",
        "\n",
        "import matplotlib.pyplot as plt"
      ]
    },
    {
      "cell_type": "code",
      "execution_count": null,
      "metadata": {
        "colab": {
          "base_uri": "https://localhost:8080/"
        },
        "id": "tRlZ1WQ5Ehd8",
        "outputId": "4ccafeb8-0901-403e-f29d-0446ef366015"
      },
      "outputs": [
        {
          "name": "stdout",
          "output_type": "stream",
          "text": [
            "               precision    recall  f1-score   support\n",
            "\n",
            "      Ao quan       0.85      1.00      0.92        50\n",
            "     Bau troi       0.80      0.78      0.79        50\n",
            "     Bia sach       0.94      0.98      0.96        50\n",
            "         Bien       0.73      0.90      0.80        50\n",
            "      Cay coi       0.86      0.64      0.74        50\n",
            "Chup man hinh       0.94      0.98      0.96        50\n",
            "   Dien thoai       1.00      0.92      0.96        50\n",
            "        Do an       0.98      0.90      0.94        50\n",
            "      Doi nui       0.96      0.46      0.62        50\n",
            "   Dong ruong       1.00      0.40      0.57        50\n",
            "    Duong pho       0.75      0.96      0.84        50\n",
            "         Giay       0.96      0.96      0.96        50\n",
            "          Hoa       0.94      0.94      0.94        50\n",
            "      Hoa don       0.85      0.90      0.87        50\n",
            "        Nguoi       0.73      0.92      0.81        50\n",
            "       Selfie       0.98      0.82      0.89        50\n",
            " Song suoi ho       0.54      0.72      0.62        50\n",
            "     Tai lieu       0.96      0.86      0.91        50\n",
            "     Thu cung       0.71      0.94      0.81        50\n",
            "      Toa nha       0.84      0.82      0.83        50\n",
            "        Xe co       0.91      0.98      0.94        50\n",
            "\n",
            "     accuracy                           0.85      1050\n",
            "    macro avg       0.87      0.85      0.84      1050\n",
            " weighted avg       0.87      0.85      0.84      1050\n",
            "\n"
          ]
        }
      ],
      "source": [
        "report = classification_report(true_classes, predicted_classes, target_names=class_labels)\n",
        "\n",
        "print(report)"
      ]
    },
    {
      "cell_type": "code",
      "execution_count": null,
      "metadata": {
        "colab": {
          "base_uri": "https://localhost:8080/",
          "height": 658
        },
        "id": "Oy24iEcuEnD0",
        "outputId": "605e519a-4a11-435c-8067-e0c5869effa9"
      },
      "outputs": [
        {
          "data": {
            "image/png": "[encoded data removed]",
            "text/plain": [
              "<Figure size 720x720 with 2 Axes>"
            ]
          },
          "metadata": {
            "needs_background": "light"
          },
          "output_type": "display_data"
        }
      ],
      "source": [
        "import seaborn as sn\n",
        "\n",
        "fig, ax = plt.subplots(figsize=(10,10))\n",
        "\n",
        "sn.heatmap(confusion_matrix(y_true=true_classes, y_pred=predicted_classes),\n",
        "\n",
        "           annot=True,\n",
        "\n",
        "           fmt='.5g', \n",
        "\n",
        "           xticklabels=class_labels, \n",
        "\n",
        "           yticklabels=class_labels,)\n",
        "\n",
        "plt.ylabel('True label')\n",
        "\n",
        "plt.xlabel('Predicted label')\n",
        "\n",
        "plt.subplots_adjust(left=0.15, bottom=0.15)\n",
        "\n",
        "plt.savefig('xception_confusion_matrix.jpg')\n",
        "\n"
      ]
    }
  ],
  "metadata": {
    "colab": {
      "collapsed_sections": [],
      "name": "xception_confusion_matrix.ipynb",
      "provenance": []
    },
    "kernelspec": {
      "display_name": "Python 3",
      "name": "python3"
    },
    "language_info": {
      "name": "python"
    }
  },
  "nbformat": 4,
  "nbformat_minor": 0
}
