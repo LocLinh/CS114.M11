{
  "cells": [
    {
      "cell_type": "code",
      "execution_count": null,
      "metadata": {
        "id": "wxDlACBKREu9"
      },
      "outputs": [],
      "source": [
        "from keras.preprocessing.image import ImageDataGenerator\n",
        "from keras.models import Sequential, Model\n",
        "from keras.layers import Conv2D, MaxPooling2D\n",
        "from keras.layers import Activation, Dropout, Flatten, Dense\n",
        "from keras.applications.vgg16 import VGG16\n",
        "import numpy as np\n",
        "import matplotlib.pyplot as plt\n",
        "import pandas as pd\n",
        "from glob import glob\n",
        "\n",
        "from keras import backend as K\n",
        "from keras.callbacks import ModelCheckpoint\n",
        "import h5py"
      ]
    },
    {
      "cell_type": "code",
      "source": [
        "from keras.models import load_model\n",
        "model = load_model('/content/drive/MyDrive/linhtinh/best_model.hdf5')"
      ],
      "metadata": {
        "id": "-vEBkr9lxiF8"
      },
      "execution_count": null,
      "outputs": []
    },
    {
      "cell_type": "code",
      "source": [
        "model.summary()"
      ],
      "metadata": {
        "colab": {
          "base_uri": "https://localhost:8080/"
        },
        "id": "5yvjYE8Uxq7L",
        "outputId": "85606f68-afba-4c16-b639-ad16a96e94f3"
      },
      "execution_count": null,
      "outputs": [
        {
          "output_type": "stream",
          "name": "stdout",
          "text": [
            "Model: \"model\"\n",
            "_________________________________________________________________\n",
            " Layer (type)                Output Shape              Param #   \n",
            "=================================================================\n",
            " input_1 (InputLayer)        [(None, 224, 224, 3)]     0         \n",
            "                                                                 \n",
            " block1_conv1 (Conv2D)       (None, 224, 224, 64)      1792      \n",
            "                                                                 \n",
            " block1_conv2 (Conv2D)       (None, 224, 224, 64)      36928     \n",
            "                                                                 \n",
            " block1_pool (MaxPooling2D)  (None, 112, 112, 64)      0         \n",
            "                                                                 \n",
            " block2_conv1 (Conv2D)       (None, 112, 112, 128)     73856     \n",
            "                                                                 \n",
            " block2_conv2 (Conv2D)       (None, 112, 112, 128)     147584    \n",
            "                                                                 \n",
            " block2_pool (MaxPooling2D)  (None, 56, 56, 128)       0         \n",
            "                                                                 \n",
            " block3_conv1 (Conv2D)       (None, 56, 56, 256)       295168    \n",
            "                                                                 \n",
            " block3_conv2 (Conv2D)       (None, 56, 56, 256)       590080    \n",
            "                                                                 \n",
            " block3_conv3 (Conv2D)       (None, 56, 56, 256)       590080    \n",
            "                                                                 \n",
            " block3_pool (MaxPooling2D)  (None, 28, 28, 256)       0         \n",
            "                                                                 \n",
            " block4_conv1 (Conv2D)       (None, 28, 28, 512)       1180160   \n",
            "                                                                 \n",
            " block4_conv2 (Conv2D)       (None, 28, 28, 512)       2359808   \n",
            "                                                                 \n",
            " block4_conv3 (Conv2D)       (None, 28, 28, 512)       2359808   \n",
            "                                                                 \n",
            " block4_pool (MaxPooling2D)  (None, 14, 14, 512)       0         \n",
            "                                                                 \n",
            " block5_conv1 (Conv2D)       (None, 14, 14, 512)       2359808   \n",
            "                                                                 \n",
            " block5_conv2 (Conv2D)       (None, 14, 14, 512)       2359808   \n",
            "                                                                 \n",
            " block5_conv3 (Conv2D)       (None, 14, 14, 512)       2359808   \n",
            "                                                                 \n",
            " block5_pool (MaxPooling2D)  (None, 7, 7, 512)         0         \n",
            "                                                                 \n",
            " flatten (Flatten)           (None, 25088)             0         \n",
            "                                                                 \n",
            " dense (Dense)               (None, 21)                526869    \n",
            "                                                                 \n",
            "=================================================================\n",
            "Total params: 15,241,557\n",
            "Trainable params: 526,869\n",
            "Non-trainable params: 14,714,688\n",
            "_________________________________________________________________\n"
          ]
        }
      ]
    },
    {
      "cell_type": "code",
      "source": [
        "import tensorflow as tf\n",
        "tf.test.gpu_device_name()"
      ],
      "metadata": {
        "colab": {
          "base_uri": "https://localhost:8080/",
          "height": 35
        },
        "id": "ZtvAtOCmJKVh",
        "outputId": "82c25d59-8a9d-4e7a-8f69-f1083588cf85"
      },
      "execution_count": null,
      "outputs": [
        {
          "output_type": "execute_result",
          "data": {
            "application/vnd.google.colaboratory.intrinsic+json": {
              "type": "string"
            },
            "text/plain": [
              "''"
            ]
          },
          "metadata": {},
          "execution_count": 2
        }
      ]
    },
    {
      "cell_type": "code",
      "execution_count": null,
      "metadata": {
        "id": "Zqi8O9deSRtM"
      },
      "outputs": [],
      "source": [
        "train_data_dir = '/content/drive/MyDrive/Public folder/Data/Train'\n",
        "validation_data_dir = '/content/drive/MyDrive/Public folder/Data/Test'"
      ]
    },
    {
      "cell_type": "code",
      "execution_count": null,
      "metadata": {
        "id": "vGc4jo2Qa082"
      },
      "outputs": [],
      "source": [
        "IMAGE_SIZE = [224, 224]"
      ]
    },
    {
      "cell_type": "code",
      "execution_count": null,
      "metadata": {
        "colab": {
          "base_uri": "https://localhost:8080/"
        },
        "id": "NrDLiaR2dZIZ",
        "outputId": "7f773c36-2190-416a-b5eb-13e6627a800e"
      },
      "outputs": [
        {
          "output_type": "stream",
          "name": "stdout",
          "text": [
            "Downloading data from https://storage.googleapis.com/tensorflow/keras-applications/vgg16/vgg16_weights_tf_dim_ordering_tf_kernels_notop.h5\n",
            "58892288/58889256 [==============================] - 0s 0us/step\n",
            "58900480/58889256 [==============================] - 0s 0us/step\n"
          ]
        }
      ],
      "source": [
        "vgg = VGG16(input_shape=IMAGE_SIZE + [3], weights='imagenet', include_top=False)"
      ]
    },
    {
      "cell_type": "code",
      "execution_count": null,
      "metadata": {
        "id": "ztl3gLcYddED"
      },
      "outputs": [],
      "source": [
        "for layer in vgg.layers:\n",
        "  layer.trainable = False"
      ]
    },
    {
      "cell_type": "code",
      "execution_count": null,
      "metadata": {
        "id": "f-0Jnta7deli"
      },
      "outputs": [],
      "source": [
        "folders = glob('/content/drive/MyDrive/Public folder/Data/Train/*')"
      ]
    },
    {
      "cell_type": "code",
      "execution_count": null,
      "metadata": {
        "colab": {
          "base_uri": "https://localhost:8080/"
        },
        "id": "dmBHCuqHfYNo",
        "outputId": "806ecfaa-1ffe-4cff-a774-f9a87c927822"
      },
      "outputs": [
        {
          "output_type": "execute_result",
          "data": {
            "text/plain": [
              "['/content/drive/MyDrive/Public folder/Data/Train/Thu cung',\n",
              " '/content/drive/MyDrive/Public folder/Data/Train/Tai lieu',\n",
              " '/content/drive/MyDrive/Public folder/Data/Train/Toa nha',\n",
              " '/content/drive/MyDrive/Public folder/Data/Train/Selfie',\n",
              " '/content/drive/MyDrive/Public folder/Data/Train/Nguoi',\n",
              " '/content/drive/MyDrive/Public folder/Data/Train/Xe co',\n",
              " '/content/drive/MyDrive/Public folder/Data/Train/Song suoi ho',\n",
              " '/content/drive/MyDrive/Public folder/Data/Train/Giay',\n",
              " '/content/drive/MyDrive/Public folder/Data/Train/Hoa don',\n",
              " '/content/drive/MyDrive/Public folder/Data/Train/Hoa',\n",
              " '/content/drive/MyDrive/Public folder/Data/Train/Dien thoai',\n",
              " '/content/drive/MyDrive/Public folder/Data/Train/Chup man hinh',\n",
              " '/content/drive/MyDrive/Public folder/Data/Train/Bien',\n",
              " '/content/drive/MyDrive/Public folder/Data/Train/Bau troi',\n",
              " '/content/drive/MyDrive/Public folder/Data/Train/Bia sach',\n",
              " '/content/drive/MyDrive/Public folder/Data/Train/Dong ruong',\n",
              " '/content/drive/MyDrive/Public folder/Data/Train/Cay coi',\n",
              " '/content/drive/MyDrive/Public folder/Data/Train/Do an',\n",
              " '/content/drive/MyDrive/Public folder/Data/Train/Duong pho',\n",
              " '/content/drive/MyDrive/Public folder/Data/Train/Doi nui',\n",
              " '/content/drive/MyDrive/Public folder/Data/Train/Ao quan']"
            ]
          },
          "metadata": {},
          "execution_count": 8
        }
      ],
      "source": [
        "folders"
      ]
    },
    {
      "cell_type": "code",
      "execution_count": null,
      "metadata": {
        "id": "FXQ9zRnNdjgT"
      },
      "outputs": [],
      "source": [
        "# our layers - you can add more if you want\n",
        "x = Flatten()(vgg.output)\n",
        "# x = Dense(1000, activation='relu')(x)\n",
        "prediction = Dense(len(folders), activation='softmax')(x)"
      ]
    },
    {
      "cell_type": "code",
      "execution_count": null,
      "metadata": {
        "id": "qD9rjoEAdnVZ"
      },
      "outputs": [],
      "source": [
        "model = Model(inputs=vgg.input, outputs=prediction)"
      ]
    },
    {
      "cell_type": "code",
      "execution_count": null,
      "metadata": {
        "colab": {
          "base_uri": "https://localhost:8080/"
        },
        "id": "qbK11irgdpbs",
        "outputId": "095eb587-6b69-4f0d-ae3a-9cc9c127de43"
      },
      "outputs": [
        {
          "output_type": "stream",
          "name": "stdout",
          "text": [
            "Model: \"model\"\n",
            "_________________________________________________________________\n",
            " Layer (type)                Output Shape              Param #   \n",
            "=================================================================\n",
            " input_1 (InputLayer)        [(None, 224, 224, 3)]     0         \n",
            "                                                                 \n",
            " block1_conv1 (Conv2D)       (None, 224, 224, 64)      1792      \n",
            "                                                                 \n",
            " block1_conv2 (Conv2D)       (None, 224, 224, 64)      36928     \n",
            "                                                                 \n",
            " block1_pool (MaxPooling2D)  (None, 112, 112, 64)      0         \n",
            "                                                                 \n",
            " block2_conv1 (Conv2D)       (None, 112, 112, 128)     73856     \n",
            "                                                                 \n",
            " block2_conv2 (Conv2D)       (None, 112, 112, 128)     147584    \n",
            "                                                                 \n",
            " block2_pool (MaxPooling2D)  (None, 56, 56, 128)       0         \n",
            "                                                                 \n",
            " block3_conv1 (Conv2D)       (None, 56, 56, 256)       295168    \n",
            "                                                                 \n",
            " block3_conv2 (Conv2D)       (None, 56, 56, 256)       590080    \n",
            "                                                                 \n",
            " block3_conv3 (Conv2D)       (None, 56, 56, 256)       590080    \n",
            "                                                                 \n",
            " block3_pool (MaxPooling2D)  (None, 28, 28, 256)       0         \n",
            "                                                                 \n",
            " block4_conv1 (Conv2D)       (None, 28, 28, 512)       1180160   \n",
            "                                                                 \n",
            " block4_conv2 (Conv2D)       (None, 28, 28, 512)       2359808   \n",
            "                                                                 \n",
            " block4_conv3 (Conv2D)       (None, 28, 28, 512)       2359808   \n",
            "                                                                 \n",
            " block4_pool (MaxPooling2D)  (None, 14, 14, 512)       0         \n",
            "                                                                 \n",
            " block5_conv1 (Conv2D)       (None, 14, 14, 512)       2359808   \n",
            "                                                                 \n",
            " block5_conv2 (Conv2D)       (None, 14, 14, 512)       2359808   \n",
            "                                                                 \n",
            " block5_conv3 (Conv2D)       (None, 14, 14, 512)       2359808   \n",
            "                                                                 \n",
            " block5_pool (MaxPooling2D)  (None, 7, 7, 512)         0         \n",
            "                                                                 \n",
            " flatten (Flatten)           (None, 25088)             0         \n",
            "                                                                 \n",
            " dense (Dense)               (None, 21)                526869    \n",
            "                                                                 \n",
            "=================================================================\n",
            "Total params: 15,241,557\n",
            "Trainable params: 526,869\n",
            "Non-trainable params: 14,714,688\n",
            "_________________________________________________________________\n"
          ]
        }
      ],
      "source": [
        "model.summary()"
      ]
    },
    {
      "cell_type": "code",
      "execution_count": null,
      "metadata": {
        "id": "rSndX8UedtPC"
      },
      "outputs": [],
      "source": [
        "model.compile(\n",
        "  loss='categorical_crossentropy',\n",
        "  optimizer='adam',\n",
        "  metrics=['accuracy']\n",
        ")"
      ]
    },
    {
      "cell_type": "code",
      "execution_count": null,
      "metadata": {
        "colab": {
          "base_uri": "https://localhost:8080/"
        },
        "id": "-tyHxSG7dwhj",
        "outputId": "8602f4ce-a633-440b-8a77-7644bd91c4c8"
      },
      "outputs": [
        {
          "output_type": "stream",
          "name": "stdout",
          "text": [
            "Found 11598 images belonging to 21 classes.\n",
            "Found 1050 images belonging to 21 classes.\n"
          ]
        }
      ],
      "source": [
        "train_datagen = ImageDataGenerator(rescale = 1./255,\n",
        "                                   shear_range = 0.2,\n",
        "                                   zoom_range = 0.2,\n",
        "                                   horizontal_flip = True)\n",
        "\n",
        "test_datagen = ImageDataGenerator(rescale = 1./255)\n",
        "\n",
        "training_set = train_datagen.flow_from_directory(train_data_dir,\n",
        "                                                 target_size = (224, 224),\n",
        "                                                 batch_size = 32,\n",
        "                                                 class_mode = 'categorical')\n",
        "\n",
        "test_set = test_datagen.flow_from_directory(validation_data_dir,\n",
        "                                            target_size = (224, 224),\n",
        "                                            batch_size = 32,\n",
        "                                            class_mode = 'categorical')"
      ]
    },
    {
      "cell_type": "code",
      "source": [
        "checkpoint = ModelCheckpoint(\"/content/drive/MyDrive/linhtinh/best_model.hdf5\", monitor='loss', verbose=1,\n",
        "    save_best_only=True, mode='auto', save_freq=5)"
      ],
      "metadata": {
        "id": "uXDsA_dKq2E3"
      },
      "execution_count": null,
      "outputs": []
    },
    {
      "cell_type": "code",
      "execution_count": null,
      "metadata": {
        "colab": {
          "base_uri": "https://localhost:8080/"
        },
        "id": "B7FdVd2ve9PJ",
        "outputId": "c544ace7-6ec6-4b9b-9f62-61183d8b39b0"
      },
      "outputs": [
        {
          "output_type": "stream",
          "name": "stdout",
          "text": [
            "  4/363 [..............................] - ETA: 1:50:28 - loss: 0.1566 - accuracy: 0.9688\n",
            "Epoch 00001: loss improved from inf to 0.12981, saving model to /content/drive/MyDrive/linhtinh/best_model.hdf5\n",
            "  9/363 [..............................] - ETA: 1:43:03 - loss: 0.1573 - accuracy: 0.9653\n",
            "Epoch 00001: loss did not improve from 0.12981\n",
            " 14/363 [>.............................] - ETA: 1:39:10 - loss: 0.1563 - accuracy: 0.9554\n",
            "Epoch 00001: loss did not improve from 0.12981\n",
            " 19/363 [>.............................] - ETA: 1:36:34 - loss: 0.1418 - accuracy: 0.9589\n",
            "Epoch 00001: loss did not improve from 0.12981\n",
            " 24/363 [>.............................] - ETA: 1:35:53 - loss: 0.1450 - accuracy: 0.9570\n",
            "Epoch 00001: loss did not improve from 0.12981\n",
            " 29/363 [=>............................] - ETA: 1:33:58 - loss: 0.1331 - accuracy: 0.9580\n",
            "Epoch 00001: loss did not improve from 0.12981\n",
            " 34/363 [=>............................] - ETA: 1:32:23 - loss: 0.1277 - accuracy: 0.9568\n",
            "Epoch 00001: loss did not improve from 0.12981\n",
            " 39/363 [==>...........................] - ETA: 1:30:42 - loss: 0.1368 - accuracy: 0.9567\n",
            "Epoch 00001: loss did not improve from 0.12981\n",
            " 44/363 [==>...........................] - ETA: 1:29:43 - loss: 0.1343 - accuracy: 0.9574\n",
            "Epoch 00001: loss did not improve from 0.12981\n",
            " 49/363 [===>..........................] - ETA: 1:28:15 - loss: 0.1283 - accuracy: 0.9579\n",
            "Epoch 00001: loss did not improve from 0.12981\n",
            " 54/363 [===>..........................] - ETA: 1:26:50 - loss: 0.1378 - accuracy: 0.9572\n",
            "Epoch 00001: loss did not improve from 0.12981\n",
            " 59/363 [===>..........................] - ETA: 1:25:10 - loss: 0.1426 - accuracy: 0.9566\n",
            "Epoch 00001: loss did not improve from 0.12981\n",
            " 64/363 [====>.........................] - ETA: 1:23:37 - loss: 0.1470 - accuracy: 0.9556\n",
            "Epoch 00001: loss did not improve from 0.12981\n",
            " 69/363 [====>.........................] - ETA: 1:22:11 - loss: 0.1442 - accuracy: 0.9570\n",
            "Epoch 00001: loss did not improve from 0.12981\n",
            " 74/363 [=====>........................] - ETA: 1:20:46 - loss: 0.1394 - accuracy: 0.9573\n",
            "Epoch 00001: loss did not improve from 0.12981\n",
            " 79/363 [=====>........................] - ETA: 1:19:35 - loss: 0.1371 - accuracy: 0.9577\n",
            "Epoch 00001: loss did not improve from 0.12981\n",
            " 84/363 [=====>........................] - ETA: 1:17:36 - loss: 0.1356 - accuracy: 0.9584\n",
            "Epoch 00001: loss did not improve from 0.12981\n",
            " 89/363 [======>.......................] - ETA: 1:16:13 - loss: 0.1375 - accuracy: 0.9572\n",
            "Epoch 00001: loss did not improve from 0.12981\n",
            " 94/363 [======>.......................] - ETA: 1:14:52 - loss: 0.1420 - accuracy: 0.9555\n",
            "Epoch 00001: loss did not improve from 0.12981\n",
            " 99/363 [=======>......................] - ETA: 1:13:26 - loss: 0.1430 - accuracy: 0.9562\n",
            "Epoch 00001: loss did not improve from 0.12981\n",
            "104/363 [=======>......................] - ETA: 1:12:07 - loss: 0.1431 - accuracy: 0.9559\n",
            "Epoch 00001: loss did not improve from 0.12981\n",
            "109/363 [========>.....................] - ETA: 1:10:43 - loss: 0.1421 - accuracy: 0.9559\n",
            "Epoch 00001: loss did not improve from 0.12981\n",
            "114/363 [========>.....................] - ETA: 1:09:30 - loss: 0.1406 - accuracy: 0.9562\n",
            "Epoch 00001: loss did not improve from 0.12981\n",
            "119/363 [========>.....................] - ETA: 1:08:06 - loss: 0.1372 - accuracy: 0.9567\n",
            "Epoch 00001: loss did not improve from 0.12981\n",
            "124/363 [=========>....................] - ETA: 1:06:42 - loss: 0.1370 - accuracy: 0.9565\n",
            "Epoch 00001: loss did not improve from 0.12981\n",
            "129/363 [=========>....................] - ETA: 1:05:18 - loss: 0.1345 - accuracy: 0.9572\n",
            "Epoch 00001: loss did not improve from 0.12981\n",
            "134/363 [==========>...................] - ETA: 1:03:53 - loss: 0.1350 - accuracy: 0.9574\n",
            "Epoch 00001: loss did not improve from 0.12981\n",
            "139/363 [==========>...................] - ETA: 1:02:30 - loss: 0.1343 - accuracy: 0.9571\n",
            "Epoch 00001: loss did not improve from 0.12981\n",
            "144/363 [==========>...................] - ETA: 1:01:08 - loss: 0.1334 - accuracy: 0.9573\n",
            "Epoch 00001: loss did not improve from 0.12981\n",
            "149/363 [===========>..................] - ETA: 59:44 - loss: 0.1342 - accuracy: 0.9575  \n",
            "Epoch 00001: loss did not improve from 0.12981\n",
            "154/363 [===========>..................] - ETA: 58:28 - loss: 0.1319 - accuracy: 0.9582\n",
            "Epoch 00001: loss did not improve from 0.12981\n",
            "159/363 [============>.................] - ETA: 57:06 - loss: 0.1402 - accuracy: 0.9562\n",
            "Epoch 00001: loss did not improve from 0.12981\n",
            "164/363 [============>.................] - ETA: 55:42 - loss: 0.1402 - accuracy: 0.9560\n",
            "Epoch 00001: loss did not improve from 0.12981\n",
            "169/363 [============>.................] - ETA: 54:18 - loss: 0.1416 - accuracy: 0.9557\n",
            "Epoch 00001: loss did not improve from 0.12981\n",
            "174/363 [=============>................] - ETA: 52:53 - loss: 0.1395 - accuracy: 0.9562\n",
            "Epoch 00001: loss did not improve from 0.12981\n",
            "179/363 [=============>................] - ETA: 51:30 - loss: 0.1399 - accuracy: 0.9564\n",
            "Epoch 00001: loss did not improve from 0.12981\n",
            "184/363 [==============>...............] - ETA: 50:07 - loss: 0.1402 - accuracy: 0.9562\n",
            "Epoch 00001: loss did not improve from 0.12981\n",
            "189/363 [==============>...............] - ETA: 48:48 - loss: 0.1416 - accuracy: 0.9564\n",
            "Epoch 00001: loss did not improve from 0.12981\n",
            "194/363 [===============>..............] - ETA: 47:24 - loss: 0.1419 - accuracy: 0.9567\n",
            "Epoch 00001: loss did not improve from 0.12981\n",
            "199/363 [===============>..............] - ETA: 46:00 - loss: 0.1413 - accuracy: 0.9569\n",
            "Epoch 00001: loss did not improve from 0.12981\n",
            "204/363 [===============>..............] - ETA: 44:36 - loss: 0.1419 - accuracy: 0.9568\n",
            "Epoch 00001: loss did not improve from 0.12981\n",
            "209/363 [================>.............] - ETA: 43:12 - loss: 0.1436 - accuracy: 0.9562\n",
            "Epoch 00001: loss did not improve from 0.12981\n",
            "214/363 [================>.............] - ETA: 41:48 - loss: 0.1434 - accuracy: 0.9565\n",
            "Epoch 00001: loss did not improve from 0.12981\n",
            "219/363 [=================>............] - ETA: 40:24 - loss: 0.1426 - accuracy: 0.9562\n",
            "Epoch 00001: loss did not improve from 0.12981\n",
            "224/363 [=================>............] - ETA: 39:03 - loss: 0.1416 - accuracy: 0.9565\n",
            "Epoch 00001: loss did not improve from 0.12981\n",
            "229/363 [=================>............] - ETA: 37:38 - loss: 0.1432 - accuracy: 0.9564\n",
            "Epoch 00001: loss did not improve from 0.12981\n",
            "234/363 [==================>...........] - ETA: 36:16 - loss: 0.1441 - accuracy: 0.9565\n",
            "Epoch 00001: loss did not improve from 0.12981\n",
            "239/363 [==================>...........] - ETA: 34:51 - loss: 0.1439 - accuracy: 0.9567\n",
            "Epoch 00001: loss did not improve from 0.12981\n",
            "244/363 [===================>..........] - ETA: 33:27 - loss: 0.1443 - accuracy: 0.9561\n",
            "Epoch 00001: loss did not improve from 0.12981\n",
            "249/363 [===================>..........] - ETA: 32:02 - loss: 0.1439 - accuracy: 0.9564\n",
            "Epoch 00001: loss did not improve from 0.12981\n",
            "254/363 [===================>..........] - ETA: 30:37 - loss: 0.1447 - accuracy: 0.9562\n",
            "Epoch 00001: loss did not improve from 0.12981\n",
            "259/363 [====================>.........] - ETA: 29:14 - loss: 0.1469 - accuracy: 0.9561\n",
            "Epoch 00001: loss did not improve from 0.12981\n",
            "264/363 [====================>.........] - ETA: 27:49 - loss: 0.1462 - accuracy: 0.9561\n",
            "Epoch 00001: loss did not improve from 0.12981\n",
            "269/363 [=====================>........] - ETA: 26:24 - loss: 0.1489 - accuracy: 0.9554\n",
            "Epoch 00001: loss did not improve from 0.12981\n",
            "274/363 [=====================>........] - ETA: 24:59 - loss: 0.1484 - accuracy: 0.9554\n",
            "Epoch 00001: loss did not improve from 0.12981\n",
            "279/363 [======================>.......] - ETA: 23:35 - loss: 0.1508 - accuracy: 0.9548\n",
            "Epoch 00001: loss did not improve from 0.12981\n",
            "284/363 [======================>.......] - ETA: 22:10 - loss: 0.1515 - accuracy: 0.9542\n",
            "Epoch 00001: loss did not improve from 0.12981\n",
            "289/363 [======================>.......] - ETA: 20:45 - loss: 0.1526 - accuracy: 0.9540\n",
            "Epoch 00001: loss did not improve from 0.12981\n",
            "294/363 [=======================>......] - ETA: 19:23 - loss: 0.1543 - accuracy: 0.9537\n",
            "Epoch 00001: loss did not improve from 0.12981\n",
            "299/363 [=======================>......] - ETA: 17:58 - loss: 0.1546 - accuracy: 0.9535\n",
            "Epoch 00001: loss did not improve from 0.12981\n",
            "304/363 [========================>.....] - ETA: 16:34 - loss: 0.1548 - accuracy: 0.9538\n",
            "Epoch 00001: loss did not improve from 0.12981\n",
            "309/363 [========================>.....] - ETA: 15:09 - loss: 0.1557 - accuracy: 0.9531\n",
            "Epoch 00001: loss did not improve from 0.12981\n",
            "314/363 [========================>.....] - ETA: 13:45 - loss: 0.1550 - accuracy: 0.9533\n",
            "Epoch 00001: loss did not improve from 0.12981\n",
            "319/363 [=========================>....] - ETA: 12:21 - loss: 0.1559 - accuracy: 0.9530\n",
            "Epoch 00001: loss did not improve from 0.12981\n",
            "324/363 [=========================>....] - ETA: 10:56 - loss: 0.1615 - accuracy: 0.9522\n",
            "Epoch 00001: loss did not improve from 0.12981\n",
            "329/363 [==========================>...] - ETA: 9:32 - loss: 0.1615 - accuracy: 0.9520\n",
            "Epoch 00001: loss did not improve from 0.12981\n",
            "334/363 [==========================>...] - ETA: 8:08 - loss: 0.1617 - accuracy: 0.9518\n",
            "Epoch 00001: loss did not improve from 0.12981\n",
            "339/363 [===========================>..] - ETA: 6:44 - loss: 0.1629 - accuracy: 0.9517\n",
            "Epoch 00001: loss did not improve from 0.12981\n",
            "344/363 [===========================>..] - ETA: 5:19 - loss: 0.1631 - accuracy: 0.9513\n",
            "Epoch 00001: loss did not improve from 0.12981\n",
            "349/363 [===========================>..] - ETA: 3:55 - loss: 0.1629 - accuracy: 0.9514\n",
            "Epoch 00001: loss did not improve from 0.12981\n",
            "354/363 [============================>.] - ETA: 2:31 - loss: 0.1644 - accuracy: 0.9509\n",
            "Epoch 00001: loss did not improve from 0.12981\n",
            "359/363 [============================>.] - ETA: 1:07 - loss: 0.1640 - accuracy: 0.9510\n",
            "Epoch 00001: loss did not improve from 0.12981\n",
            "363/363 [==============================] - 6650s 18s/step - loss: 0.1636 - accuracy: 0.9510 - val_loss: 1.2218 - val_accuracy: 0.7971\n",
            "CPU times: user 3h 31min 37s, sys: 1min 54s, total: 3h 33min 32s\n",
            "Wall time: 1h 50min 53s\n"
          ]
        }
      ],
      "source": [
        "%%time\n",
        "r = model.fit(\n",
        "  training_set,\n",
        "  validation_data=test_set,\n",
        "  epochs=1,\n",
        "  steps_per_epoch=len(training_set),\n",
        "  validation_steps=len(test_set),\n",
        "  callbacks=[checkpoint]\n",
        ")"
      ]
    },
    {
      "cell_type": "code",
      "source": [
        "model.save('/content/drive/MyDrive/linhtinh/my_model.h5')"
      ],
      "metadata": {
        "id": "S1kOkoFz8lUI"
      },
      "execution_count": null,
      "outputs": []
    },
    {
      "cell_type": "code",
      "execution_count": null,
      "metadata": {
        "id": "Fnsk2d8Ze-SH",
        "colab": {
          "base_uri": "https://localhost:8080/",
          "height": 282
        },
        "outputId": "9849cf4b-3104-4ce7-b9e0-4eecb09eb50a"
      },
      "outputs": [
        {
          "output_type": "display_data",
          "data": {
            "image/png": "[encoded data removed]",
            "text/plain": [
              "<Figure size 432x288 with 1 Axes>"
            ]
          },
          "metadata": {
            "needs_background": "light"
          }
        },
        {
          "output_type": "display_data",
          "data": {
            "text/plain": [
              "<Figure size 432x288 with 0 Axes>"
            ]
          },
          "metadata": {}
        }
      ],
      "source": [
        "plt.plot(r.history['loss'], label='train loss')\n",
        "plt.plot(r.history['val_loss'], label='val loss')\n",
        "plt.legend()\n",
        "plt.show()\n",
        "plt.savefig('LossVal_loss')\n"
      ]
    },
    {
      "cell_type": "code",
      "execution_count": null,
      "metadata": {
        "id": "YkchT3h9f5Uc",
        "colab": {
          "base_uri": "https://localhost:8080/",
          "height": 282
        },
        "outputId": "3f0e2991-b08e-423f-b9db-ceaac11c38f0"
      },
      "outputs": [
        {
          "output_type": "display_data",
          "data": {
            "image/png": "[encoded data removed]",
            "text/plain": [
              "<Figure size 432x288 with 1 Axes>"
            ]
          },
          "metadata": {
            "needs_background": "light"
          }
        },
        {
          "output_type": "display_data",
          "data": {
            "text/plain": [
              "<Figure size 432x288 with 0 Axes>"
            ]
          },
          "metadata": {}
        }
      ],
      "source": [
        "plt.plot(r.history['accuracy'], label='train acc')\n",
        "plt.plot(r.history['val_accuracy'], label='val acc')\n",
        "plt.legend()\n",
        "plt.show()\n",
        "plt.savefig('AccVal_acc')"
      ]
    },
    {
      "cell_type": "code",
      "source": [
        "model = load_model('/content/drive/MyDrive/linhtinh/my_model.h5')"
      ],
      "metadata": {
        "id": "TQ5DMEs4iIEN"
      },
      "execution_count": null,
      "outputs": []
    },
    {
      "cell_type": "code",
      "source": [
        "!pip install tensorflowjs"
      ],
      "metadata": {
        "colab": {
          "base_uri": "https://localhost:8080/"
        },
        "id": "PdV0dOPtQv6V",
        "outputId": "3b322207-27a7-46d2-b174-c5847f62d148"
      },
      "execution_count": null,
      "outputs": [
        {
          "output_type": "stream",
          "name": "stdout",
          "text": [
            "Collecting tensorflowjs\n",
            "  Downloading tensorflowjs-3.13.0-py3-none-any.whl (77 kB)\n",
            "\u001b[?25l\r\u001b[K     |████▎                           | 10 kB 17.8 MB/s eta 0:00:01\r\u001b[K     |████████▌                       | 20 kB 20.3 MB/s eta 0:00:01\r\u001b[K     |████████████▊                   | 30 kB 23.9 MB/s eta 0:00:01\r\u001b[K     |█████████████████               | 40 kB 27.4 MB/s eta 0:00:01\r\u001b[K     |█████████████████████▏          | 51 kB 30.1 MB/s eta 0:00:01\r\u001b[K     |█████████████████████████▍      | 61 kB 30.1 MB/s eta 0:00:01\r\u001b[K     |█████████████████████████████▊  | 71 kB 28.1 MB/s eta 0:00:01\r\u001b[K     |████████████████████████████████| 77 kB 5.0 MB/s \n",
            "\u001b[?25hRequirement already satisfied: six<2,>=1.12.0 in /usr/local/lib/python3.7/dist-packages (from tensorflowjs) (1.15.0)\n",
            "Requirement already satisfied: tensorflow<3,>=2.1.0 in /usr/local/lib/python3.7/dist-packages (from tensorflowjs) (2.7.0)\n",
            "Requirement already satisfied: tensorflow-hub<0.13,>=0.7.0 in /usr/local/lib/python3.7/dist-packages (from tensorflowjs) (0.12.0)\n",
            "Requirement already satisfied: tensorboard~=2.6 in /usr/local/lib/python3.7/dist-packages (from tensorflow<3,>=2.1.0->tensorflowjs) (2.7.0)\n",
            "Requirement already satisfied: protobuf>=3.9.2 in /usr/local/lib/python3.7/dist-packages (from tensorflow<3,>=2.1.0->tensorflowjs) (3.17.3)\n",
            "Requirement already satisfied: numpy>=1.14.5 in /usr/local/lib/python3.7/dist-packages (from tensorflow<3,>=2.1.0->tensorflowjs) (1.19.5)\n",
            "Requirement already satisfied: wheel<1.0,>=0.32.0 in /usr/local/lib/python3.7/dist-packages (from tensorflow<3,>=2.1.0->tensorflowjs) (0.37.1)\n",
            "Requirement already satisfied: absl-py>=0.4.0 in /usr/local/lib/python3.7/dist-packages (from tensorflow<3,>=2.1.0->tensorflowjs) (0.12.0)\n",
            "Requirement already satisfied: termcolor>=1.1.0 in /usr/local/lib/python3.7/dist-packages (from tensorflow<3,>=2.1.0->tensorflowjs) (1.1.0)\n",
            "Requirement already satisfied: libclang>=9.0.1 in /usr/local/lib/python3.7/dist-packages (from tensorflow<3,>=2.1.0->tensorflowjs) (12.0.0)\n",
            "Requirement already satisfied: keras<2.8,>=2.7.0rc0 in /usr/local/lib/python3.7/dist-packages (from tensorflow<3,>=2.1.0->tensorflowjs) (2.7.0)\n",
            "Requirement already satisfied: typing-extensions>=3.6.6 in /usr/local/lib/python3.7/dist-packages (from tensorflow<3,>=2.1.0->tensorflowjs) (3.10.0.2)\n",
            "Requirement already satisfied: h5py>=2.9.0 in /usr/local/lib/python3.7/dist-packages (from tensorflow<3,>=2.1.0->tensorflowjs) (3.1.0)\n",
            "Requirement already satisfied: tensorflow-io-gcs-filesystem>=0.21.0 in /usr/local/lib/python3.7/dist-packages (from tensorflow<3,>=2.1.0->tensorflowjs) (0.23.1)\n",
            "Requirement already satisfied: wrapt>=1.11.0 in /usr/local/lib/python3.7/dist-packages (from tensorflow<3,>=2.1.0->tensorflowjs) (1.13.3)\n",
            "Requirement already satisfied: google-pasta>=0.1.1 in /usr/local/lib/python3.7/dist-packages (from tensorflow<3,>=2.1.0->tensorflowjs) (0.2.0)\n",
            "Requirement already satisfied: grpcio<2.0,>=1.24.3 in /usr/local/lib/python3.7/dist-packages (from tensorflow<3,>=2.1.0->tensorflowjs) (1.43.0)\n",
            "Requirement already satisfied: tensorflow-estimator<2.8,~=2.7.0rc0 in /usr/local/lib/python3.7/dist-packages (from tensorflow<3,>=2.1.0->tensorflowjs) (2.7.0)\n",
            "Requirement already satisfied: flatbuffers<3.0,>=1.12 in /usr/local/lib/python3.7/dist-packages (from tensorflow<3,>=2.1.0->tensorflowjs) (2.0)\n",
            "Requirement already satisfied: keras-preprocessing>=1.1.1 in /usr/local/lib/python3.7/dist-packages (from tensorflow<3,>=2.1.0->tensorflowjs) (1.1.2)\n",
            "Requirement already satisfied: opt-einsum>=2.3.2 in /usr/local/lib/python3.7/dist-packages (from tensorflow<3,>=2.1.0->tensorflowjs) (3.3.0)\n",
            "Requirement already satisfied: astunparse>=1.6.0 in /usr/local/lib/python3.7/dist-packages (from tensorflow<3,>=2.1.0->tensorflowjs) (1.6.3)\n",
            "Requirement already satisfied: gast<0.5.0,>=0.2.1 in /usr/local/lib/python3.7/dist-packages (from tensorflow<3,>=2.1.0->tensorflowjs) (0.4.0)\n",
            "Requirement already satisfied: cached-property in /usr/local/lib/python3.7/dist-packages (from h5py>=2.9.0->tensorflow<3,>=2.1.0->tensorflowjs) (1.5.2)\n",
            "Requirement already satisfied: setuptools>=41.0.0 in /usr/local/lib/python3.7/dist-packages (from tensorboard~=2.6->tensorflow<3,>=2.1.0->tensorflowjs) (57.4.0)\n",
            "Requirement already satisfied: google-auth<3,>=1.6.3 in /usr/local/lib/python3.7/dist-packages (from tensorboard~=2.6->tensorflow<3,>=2.1.0->tensorflowjs) (1.35.0)\n",
            "Requirement already satisfied: tensorboard-data-server<0.7.0,>=0.6.0 in /usr/local/lib/python3.7/dist-packages (from tensorboard~=2.6->tensorflow<3,>=2.1.0->tensorflowjs) (0.6.1)\n",
            "Requirement already satisfied: tensorboard-plugin-wit>=1.6.0 in /usr/local/lib/python3.7/dist-packages (from tensorboard~=2.6->tensorflow<3,>=2.1.0->tensorflowjs) (1.8.1)\n",
            "Requirement already satisfied: werkzeug>=0.11.15 in /usr/local/lib/python3.7/dist-packages (from tensorboard~=2.6->tensorflow<3,>=2.1.0->tensorflowjs) (1.0.1)\n",
            "Requirement already satisfied: requests<3,>=2.21.0 in /usr/local/lib/python3.7/dist-packages (from tensorboard~=2.6->tensorflow<3,>=2.1.0->tensorflowjs) (2.23.0)\n",
            "Requirement already satisfied: google-auth-oauthlib<0.5,>=0.4.1 in /usr/local/lib/python3.7/dist-packages (from tensorboard~=2.6->tensorflow<3,>=2.1.0->tensorflowjs) (0.4.6)\n",
            "Requirement already satisfied: markdown>=2.6.8 in /usr/local/lib/python3.7/dist-packages (from tensorboard~=2.6->tensorflow<3,>=2.1.0->tensorflowjs) (3.3.6)\n",
            "Requirement already satisfied: pyasn1-modules>=0.2.1 in /usr/local/lib/python3.7/dist-packages (from google-auth<3,>=1.6.3->tensorboard~=2.6->tensorflow<3,>=2.1.0->tensorflowjs) (0.2.8)\n",
            "Requirement already satisfied: cachetools<5.0,>=2.0.0 in /usr/local/lib/python3.7/dist-packages (from google-auth<3,>=1.6.3->tensorboard~=2.6->tensorflow<3,>=2.1.0->tensorflowjs) (4.2.4)\n",
            "Requirement already satisfied: rsa<5,>=3.1.4 in /usr/local/lib/python3.7/dist-packages (from google-auth<3,>=1.6.3->tensorboard~=2.6->tensorflow<3,>=2.1.0->tensorflowjs) (4.8)\n",
            "Requirement already satisfied: requests-oauthlib>=0.7.0 in /usr/local/lib/python3.7/dist-packages (from google-auth-oauthlib<0.5,>=0.4.1->tensorboard~=2.6->tensorflow<3,>=2.1.0->tensorflowjs) (1.3.0)\n",
            "Requirement already satisfied: importlib-metadata>=4.4 in /usr/local/lib/python3.7/dist-packages (from markdown>=2.6.8->tensorboard~=2.6->tensorflow<3,>=2.1.0->tensorflowjs) (4.10.0)\n",
            "Requirement already satisfied: zipp>=0.5 in /usr/local/lib/python3.7/dist-packages (from importlib-metadata>=4.4->markdown>=2.6.8->tensorboard~=2.6->tensorflow<3,>=2.1.0->tensorflowjs) (3.7.0)\n",
            "Requirement already satisfied: pyasn1<0.5.0,>=0.4.6 in /usr/local/lib/python3.7/dist-packages (from pyasn1-modules>=0.2.1->google-auth<3,>=1.6.3->tensorboard~=2.6->tensorflow<3,>=2.1.0->tensorflowjs) (0.4.8)\n",
            "Requirement already satisfied: urllib3!=1.25.0,!=1.25.1,<1.26,>=1.21.1 in /usr/local/lib/python3.7/dist-packages (from requests<3,>=2.21.0->tensorboard~=2.6->tensorflow<3,>=2.1.0->tensorflowjs) (1.24.3)\n",
            "Requirement already satisfied: chardet<4,>=3.0.2 in /usr/local/lib/python3.7/dist-packages (from requests<3,>=2.21.0->tensorboard~=2.6->tensorflow<3,>=2.1.0->tensorflowjs) (3.0.4)\n",
            "Requirement already satisfied: certifi>=2017.4.17 in /usr/local/lib/python3.7/dist-packages (from requests<3,>=2.21.0->tensorboard~=2.6->tensorflow<3,>=2.1.0->tensorflowjs) (2021.10.8)\n",
            "Requirement already satisfied: idna<3,>=2.5 in /usr/local/lib/python3.7/dist-packages (from requests<3,>=2.21.0->tensorboard~=2.6->tensorflow<3,>=2.1.0->tensorflowjs) (2.10)\n",
            "Requirement already satisfied: oauthlib>=3.0.0 in /usr/local/lib/python3.7/dist-packages (from requests-oauthlib>=0.7.0->google-auth-oauthlib<0.5,>=0.4.1->tensorboard~=2.6->tensorflow<3,>=2.1.0->tensorflowjs) (3.1.1)\n",
            "Installing collected packages: tensorflowjs\n",
            "Successfully installed tensorflowjs-3.13.0\n"
          ]
        }
      ]
    },
    {
      "cell_type": "code",
      "source": [
        "import tensorflowjs as tfjs\n",
        "\n",
        "tfjs.converters.save_keras_model(model, '/content/drive/MyDrive/linhtinh')"
      ],
      "metadata": {
        "id": "qhP50NZGO9bP"
      },
      "execution_count": null,
      "outputs": []
    }
  ],
  "metadata": {
    "colab": {
      "collapsed_sections": [],
      "name": "small_img_classification.ipynb",
      "provenance": []
    },
    "kernelspec": {
      "display_name": "Python 3",
      "name": "python3"
    },
    "language_info": {
      "name": "python"
    }
  },
  "nbformat": 4,
  "nbformat_minor": 0
}