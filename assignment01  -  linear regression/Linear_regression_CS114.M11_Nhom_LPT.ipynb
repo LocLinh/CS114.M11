{
  "nbformat": 4,
  "nbformat_minor": 0,
  "metadata": {
    "colab": {
      "name": "Linear_regression.ipynb",
      "provenance": [],
      "collapsed_sections": []
    },
    "kernelspec": {
      "name": "python3",
      "display_name": "Python 3"
    },
    "language_info": {
      "name": "python"
    }
  },
  "cells": [
    {
      "cell_type": "markdown",
      "metadata": {
        "id": "Fhx1WMc3FpbJ"
      },
      "source": [
        "#### import thư viện cần thiết"
      ]
    },
    {
      "cell_type": "code",
      "metadata": {
        "id": "kEh9VTRjDKiW"
      },
      "source": [
        "import matplotlib.pyplot as plt\n",
        "import numpy as np"
      ],
      "execution_count": 1,
      "outputs": []
    },
    {
      "cell_type": "markdown",
      "metadata": {
        "id": "8rkmgIzdFxJS"
      },
      "source": [
        "Tải tập data train với data test"
      ]
    },
    {
      "cell_type": "code",
      "metadata": {
        "colab": {
          "resources": {
            "http://localhost:8080/nbextensions/google.colab/files.js": {
              "data": "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",
              "ok": true,
              "headers": [
                [
                  "content-type",
                  "application/javascript"
                ]
              ],
              "status": 200,
              "status_text": ""
            }
          },
          "base_uri": "https://localhost:8080/",
          "height": 142
        },
        "id": "MEEq4etXDozV",
        "outputId": "f46d14ee-521c-4583-a4d8-09324f43838c"
      },
      "source": [
        "from google.colab import files\n",
        "uploaded = files.upload()"
      ],
      "execution_count": 2,
      "outputs": [
        {
          "output_type": "display_data",
          "data": {
            "text/html": [
              "\n",
              "     <input type=\"file\" id=\"files-9b93ab5b-7696-4f8d-bc19-b23b72d0c85f\" name=\"files[]\" multiple disabled\n",
              "        style=\"border:none\" />\n",
              "     <output id=\"result-9b93ab5b-7696-4f8d-bc19-b23b72d0c85f\">\n",
              "      Upload widget is only available when the cell has been executed in the\n",
              "      current browser session. Please rerun this cell to enable.\n",
              "      </output>\n",
              "      <script src=\"/nbextensions/google.colab/files.js\"></script> "
            ],
            "text/plain": [
              "<IPython.core.display.HTML object>"
            ]
          },
          "metadata": {}
        },
        {
          "output_type": "stream",
          "name": "stdout",
          "text": [
            "Saving data4.txt to data4.txt\n",
            "Saving data3.txt to data3.txt\n",
            "Saving data2.txt to data2.txt\n"
          ]
        }
      ]
    },
    {
      "cell_type": "markdown",
      "metadata": {
        "id": "V_OwWmj_F2RL"
      },
      "source": [
        "Đọc dữ liệu từ data train"
      ]
    },
    {
      "cell_type": "code",
      "metadata": {
        "id": "tddKqXOYD7rI"
      },
      "source": [
        "data = np.loadtxt('data2.txt', delimiter=',', dtype=float)"
      ],
      "execution_count": 3,
      "outputs": []
    },
    {
      "cell_type": "markdown",
      "metadata": {
        "id": "PR8oRIpDF-vz"
      },
      "source": [
        "Phân biệt 2 dòng dữ liệu"
      ]
    },
    {
      "cell_type": "code",
      "metadata": {
        "colab": {
          "base_uri": "https://localhost:8080/"
        },
        "id": "yOo-nga3Md5G",
        "outputId": "d50a2e1d-f0a4-4f29-8884-bb71d797ecb7"
      },
      "source": [
        "data.shape"
      ],
      "execution_count": 4,
      "outputs": [
        {
          "output_type": "execute_result",
          "data": {
            "text/plain": [
              "(71115, 2)"
            ]
          },
          "metadata": {},
          "execution_count": 4
        }
      ]
    },
    {
      "cell_type": "code",
      "metadata": {
        "id": "RCYg-YcuEYqZ"
      },
      "source": [
        "# Kích cỡ của chương trình (byte)\n",
        "X = data[:, 0]\n",
        "# Thời gian chạy của chương trình (s)\n",
        "y = data[:, 1]"
      ],
      "execution_count": 5,
      "outputs": []
    },
    {
      "cell_type": "markdown",
      "metadata": {
        "id": "4TD-wQudGAM5"
      },
      "source": [
        "Vẽ lên biểu đồ"
      ]
    },
    {
      "cell_type": "code",
      "metadata": {
        "colab": {
          "base_uri": "https://localhost:8080/",
          "height": 280
        },
        "id": "uYIZZQfFE68c",
        "outputId": "8360da08-7900-4f80-ede8-274db12642c6"
      },
      "source": [
        "plt.scatter(X, y)\n",
        "plt.xlabel(\"Kích cỡ dữ liệu chương trình\")\n",
        "plt.ylabel(\"thời gian thực thi\")\n",
        "plt.show()"
      ],
      "execution_count": 6,
      "outputs": [
        {
          "output_type": "display_data",
          "data": {
            "image/png": "[encoded data removed]",
            "text/plain": [
              "<Figure size 432x288 with 1 Axes>"
            ]
          },
          "metadata": {
            "needs_background": "light"
          }
        }
      ]
    },
    {
      "cell_type": "markdown",
      "metadata": {
        "id": "LKtDaXF0Idxj"
      },
      "source": [
        "Em thấy được kích cỡ dữ liệu chương trình càng lớn thì thời gian thực thi của chương trình càng lớn"
      ]
    },
    {
      "cell_type": "code",
      "metadata": {
        "colab": {
          "base_uri": "https://localhost:8080/"
        },
        "id": "fI2zKbGYxi7X",
        "outputId": "5c06c335-aad7-45ec-bafe-8eda9a4e1fd6"
      },
      "source": [
        "from sklearn.preprocessing import StandardScaler\n",
        "from sklearn.pipeline import make_pipeline\n",
        "from sklearn.linear_model import LinearRegression\n",
        "\n",
        "linear_reg = LinearRegression()\n",
        "linear_reg.fit(X.reshape(-1, 1), y)"
      ],
      "execution_count": 19,
      "outputs": [
        {
          "output_type": "execute_result",
          "data": {
            "text/plain": [
              "LinearRegression()"
            ]
          },
          "metadata": {},
          "execution_count": 19
        }
      ]
    },
    {
      "cell_type": "code",
      "metadata": {
        "id": "9_n_l6JM7UQ2"
      },
      "source": [
        "y_pred = linear_reg.predict(X.reshape(-1, 1))"
      ],
      "execution_count": 20,
      "outputs": []
    },
    {
      "cell_type": "code",
      "metadata": {
        "colab": {
          "base_uri": "https://localhost:8080/"
        },
        "id": "dRUN9UoE0Pkm",
        "outputId": "b608e469-0534-4199-e110-065f48c552ba"
      },
      "source": [
        "from sklearn.metrics import r2_score\n",
        "\n",
        "r2_score(y, y_pred)"
      ],
      "execution_count": 21,
      "outputs": [
        {
          "output_type": "execute_result",
          "data": {
            "text/plain": [
              "0.9975924993345858"
            ]
          },
          "metadata": {},
          "execution_count": 21
        }
      ]
    },
    {
      "cell_type": "markdown",
      "metadata": {
        "id": "nWzMNNYAKGr0"
      },
      "source": [
        "r2_score đánh giá y_predict so với với y_true\n",
        "\n",
        "r2_score được tính bằng: score = 1 - u/v\n",
        "\n",
        "trong đó:\n",
        "- u là tổng các độ lệch bình phương ( Tổng các (y_true - y_predict)**2 )\n",
        "- v là tổng độ lệch bình phương của toàn bộ các sample ( (y_true - y_true.mean**2 )\n",
        "\n",
        "kết quả r2 trong khoảng (-inf, 1]. càng gần 1 thì độ chính xác càng cao"
      ]
    },
    {
      "cell_type": "code",
      "metadata": {
        "colab": {
          "base_uri": "https://localhost:8080/"
        },
        "id": "95AjxoW42MOn",
        "outputId": "8289f051-f9e4-4626-eda5-766d193670c3"
      },
      "source": [
        "print('coefficient: ',linear_reg.coef_)\n",
        "print('intercept : ',linear_reg.intercept_)"
      ],
      "execution_count": 24,
      "outputs": [
        {
          "output_type": "stream",
          "name": "stdout",
          "text": [
            "coefficient:  [8.45569856e-08]\n",
            "intercept :  -0.015895527000496068\n"
          ]
        }
      ]
    },
    {
      "cell_type": "markdown",
      "metadata": {
        "id": "L2pWDWQzIXME"
      },
      "source": [
        "phương trình đường thẳng dự đoán là: y = 8.45569856e-08 * X - 0.015895527000496068\n",
        "\n",
        "vì kích thước dữ liệu quá lớn so với thời gian thực thi nên các trị số của phương trình đường thẳng rất nhỏ."
      ]
    },
    {
      "cell_type": "code",
      "metadata": {
        "colab": {
          "base_uri": "https://localhost:8080/",
          "height": 606
        },
        "id": "TkzBz2b03PLW",
        "outputId": "e7470f60-f523-43cc-f334-0d938f1325b2"
      },
      "source": [
        "X_plot = np.array([200, 10000000])\n",
        "y_plot = linear_reg.predict(X_plot.reshape(-1, 1))\n",
        "\n",
        "plt.figure(figsize=(10, 10))\n",
        "plt.scatter(X, y)\n",
        "plt.plot(X_plot, y_plot, c='r')\n",
        "plt.xlabel(\"Kích cỡ chương trình\")\n",
        "plt.ylabel(\"thời gian thực thi\")\n",
        "plt.show()"
      ],
      "execution_count": 25,
      "outputs": [
        {
          "output_type": "display_data",
          "data": {
            "image/png": "[encoded data removed]",
            "text/plain": [
              "<Figure size 720x720 with 1 Axes>"
            ]
          },
          "metadata": {
            "needs_background": "light"
          }
        }
      ]
    },
    {
      "cell_type": "markdown",
      "metadata": {
        "id": "uId9MF3LGAyR"
      },
      "source": [
        "Sử dụng phương trình đường thẳng ban đầu để dự đoán các bộ dữ liệu \"data3\" và \"data4\""
      ]
    },
    {
      "cell_type": "code",
      "metadata": {
        "colab": {
          "base_uri": "https://localhost:8080/",
          "height": 606
        },
        "id": "dwHBgUXW4hNq",
        "outputId": "cbfa5e29-5068-4f8b-ed58-9face1f1341b"
      },
      "source": [
        "data_test1 = np.loadtxt('data3.txt', delimiter=',', dtype=float)\n",
        "data_test2 = np.loadtxt('data4.txt', delimiter=',', dtype=float)\n",
        "\n",
        "X_test1 = data_test1[:, 0]\n",
        "y_test1 = data_test1[:, 1]\n",
        "X_test2 = data_test2[:, 0]\n",
        "y_test2 = data_test2[:, 1]\n",
        "\n",
        "X_plot = np.array([200, 100000000])\n",
        "y_plot = linear_reg.predict(X_plot.reshape(-1, 1))\n",
        "\n",
        "plt.figure(figsize=(10, 10))\n",
        "# tập train\n",
        "plt.scatter(X, y)\n",
        "# tập data3\n",
        "plt.scatter(X_test1, y_test1)\n",
        "# tập data4\n",
        "plt.scatter(X_test2, y_test2)\n",
        "# đường dự đoán của model linear_reg\n",
        "plt.plot(X_plot, y_plot, c='r')\n",
        "plt.xlabel(\"Kích cỡ chương trình\")\n",
        "plt.ylabel(\"thời gian thực thi\")\n",
        "plt.show()"
      ],
      "execution_count": 26,
      "outputs": [
        {
          "output_type": "display_data",
          "data": {
            "image/png": "[encoded data removed]",
            "text/plain": [
              "<Figure size 720x720 with 1 Axes>"
            ]
          },
          "metadata": {
            "needs_background": "light"
          }
        }
      ]
    },
    {
      "cell_type": "code",
      "metadata": {
        "colab": {
          "base_uri": "https://localhost:8080/"
        },
        "id": "roA-tg406ZpP",
        "outputId": "e15c65f2-f6cc-40e5-ae3c-0eb9cacefe1f"
      },
      "source": [
        "r2_score(y_test1, linear_reg.predict(X_test1.reshape(-1, 1)))"
      ],
      "execution_count": 27,
      "outputs": [
        {
          "output_type": "execute_result",
          "data": {
            "text/plain": [
              "0.9284132208349453"
            ]
          },
          "metadata": {},
          "execution_count": 27
        }
      ]
    },
    {
      "cell_type": "code",
      "metadata": {
        "colab": {
          "base_uri": "https://localhost:8080/"
        },
        "id": "fX9GvCdgAT_T",
        "outputId": "240efcab-d172-43ed-d5a1-c234b9d8df79"
      },
      "source": [
        "r2_score(y_test2, linear_reg.predict(X_test2.reshape(-1, 1)))"
      ],
      "execution_count": 28,
      "outputs": [
        {
          "output_type": "execute_result",
          "data": {
            "text/plain": [
              "0.3156839605365861"
            ]
          },
          "metadata": {},
          "execution_count": 28
        }
      ]
    },
    {
      "cell_type": "markdown",
      "metadata": {
        "id": "S2WG2zwoGRk3"
      },
      "source": [
        "Đánh giá r2 của đường thẳng này giảm rõ rệt khi dự đoán trên bộ dada3 và data4.\n",
        "\n",
        "Do đó đề xuất vài hướng giải pháp để có thể dự đoán tốt hơn. Đầu tiên là loại bỏ data tới một ngưỡng nào nào đó. Thứ hai là sử dụng polynomial regression. Và tiếp theo là kết hợp cả 2."
      ]
    },
    {
      "cell_type": "markdown",
      "metadata": {
        "id": "9PF0Y9dmc_p-"
      },
      "source": [
        "#### hướng loại bỏ data"
      ]
    },
    {
      "cell_type": "markdown",
      "metadata": {
        "id": "avmxjXiHHyM9"
      },
      "source": [
        "sắp xếp data theo thời gian thực thi từ nhỏ đến lớn. và loại bỏ dần dần các data nhỏ đi cho đến khi đạt kết quả tốt nhất"
      ]
    },
    {
      "cell_type": "code",
      "metadata": {
        "colab": {
          "base_uri": "https://localhost:8080/"
        },
        "id": "AIoxHXcFIZ-K",
        "outputId": "ea3599b7-4c95-4824-fff1-74bf7d50afad"
      },
      "source": [
        "sorted_data = np.array(sorted(data, key=lambda x: x[1]))\n",
        "sorted_data\n"
      ],
      "execution_count": 29,
      "outputs": [
        {
          "output_type": "execute_result",
          "data": {
            "text/plain": [
              "array([[2.550000e+02, 8.601000e-06],\n",
              "       [3.200000e+02, 1.065800e-05],\n",
              "       [4.430000e+02, 1.731700e-05],\n",
              "       ...,\n",
              "       [9.949739e+06, 9.784270e-01],\n",
              "       [9.767804e+06, 9.800350e-01],\n",
              "       [9.866574e+06, 9.837760e-01]])"
            ]
          },
          "metadata": {},
          "execution_count": 29
        }
      ]
    },
    {
      "cell_type": "markdown",
      "metadata": {
        "id": "LbkrId0eRr6w"
      },
      "source": [
        "loại bỏ các data từ đầu đến i, i từ khoảng 1 đến 50000 nhảy mỗi bước là 100, để tìm ra kết quả tốt nhất"
      ]
    },
    {
      "cell_type": "code",
      "metadata": {
        "colab": {
          "base_uri": "https://localhost:8080/"
        },
        "id": "irbmULmVRf9a",
        "outputId": "ac3e8108-21e5-4010-f1f3-c6320e941a38"
      },
      "source": [
        "max_score_1 = 0\n",
        "max_score_2 = 0\n",
        "i_sample_remove_1 = 1\n",
        "i_sample_remove_2 = 1\n",
        "\n",
        "for i in range(1, 50000, 100):\n",
        "  X_train = sorted_data[i:, 0]\n",
        "  y_train = sorted_data[i:, 1]\n",
        "  model = LinearRegression()\n",
        "  model.fit(X_train.reshape(-1, 1), y_train)\n",
        "  score_1 = r2_score(y_test1, model.predict(X_test1.reshape(-1, 1)))\n",
        "  score_2 = r2_score(y_test2, model.predict(X_test2.reshape(-1, 1)))\n",
        "  if score_1 > max_score_1:\n",
        "    i_sample_remove_1 = i\n",
        "    max_score_1 = score_1\n",
        "  if score_2 > max_score_2:\n",
        "    i_sample_remove_2 = i\n",
        "    max_score_2 = score_2\n",
        "\n",
        "print('score 1 tốt nhất là: ', max_score_1, '. Sau khi loại các phần từ đầu',i_sample_remove_1)\n",
        "print('score 2 tốt nhất là: ', max_score_2, '. Sau khi loại các phần từ đầu',i_sample_remove_2)"
      ],
      "execution_count": 30,
      "outputs": [
        {
          "output_type": "stream",
          "name": "stdout",
          "text": [
            "score 1 tốt nhất là:  0.9682262768913524 . Sau khi loại các phần từ đầu 42901\n",
            "score 2 tốt nhất là:  0.6217039283255559 . Sau khi loại các phần từ đầu 42901\n"
          ]
        }
      ]
    },
    {
      "cell_type": "markdown",
      "metadata": {
        "id": "lDmYMstPU7sm"
      },
      "source": [
        "giảm số bước nhảy xuống 10, đổi khoảng giá trị của i thành từ 30000 đến 70000"
      ]
    },
    {
      "cell_type": "code",
      "metadata": {
        "colab": {
          "base_uri": "https://localhost:8080/"
        },
        "id": "WKWua86HURKV",
        "outputId": "8e1e1c6e-f218-4a16-fef3-6b1f27d17820"
      },
      "source": [
        "max_score_1 = 0\n",
        "max_score_2 = 0\n",
        "i_sample_remove_1 = 1\n",
        "i_sample_remove_2 = 1\n",
        "\n",
        "for i in range(30000, 70000, 10):\n",
        "  X_train = sorted_data[i:, 0]\n",
        "  y_train = sorted_data[i:, 1]\n",
        "  model = LinearRegression()\n",
        "  model.fit(X_train.reshape(-1, 1), y_train)\n",
        "  score_1 = r2_score(y_test1, model.predict(X_test1.reshape(-1, 1)))\n",
        "  score_2 = r2_score(y_test2, model.predict(X_test2.reshape(-1, 1)))\n",
        "  if score_1 > max_score_1:\n",
        "    i_sample_remove_1 = i\n",
        "    max_score_1 = score_1\n",
        "  if score_2 > max_score_2:\n",
        "    i_sample_remove_2 = i\n",
        "    max_score_2 = score_2\n",
        "\n",
        "print('score 1 tốt nhất là: ', max_score_1, '. Sau khi loại các phần từ đầu',i_sample_remove_1)\n",
        "print('score 2 tốt nhất là: ', max_score_2, '. Sau khi loại các phần từ đầu',i_sample_remove_2)"
      ],
      "execution_count": 31,
      "outputs": [
        {
          "output_type": "stream",
          "name": "stdout",
          "text": [
            "score 1 tốt nhất là:  0.9682551657606262 . Sau khi loại các phần từ đầu 42890\n",
            "score 2 tốt nhất là:  0.621968885829858 . Sau khi loại các phần từ đầu 42890\n"
          ]
        }
      ]
    },
    {
      "cell_type": "markdown",
      "metadata": {
        "id": "zGSEe7R5X3k4"
      },
      "source": [
        "giảm số bước nhảy xuống 1 và đổi khoảng giá trị i từ 40000 đến 50000"
      ]
    },
    {
      "cell_type": "code",
      "metadata": {
        "colab": {
          "base_uri": "https://localhost:8080/"
        },
        "id": "nTMFC9LhVOTY",
        "outputId": "02530f21-e70d-4666-de26-86d69a561510"
      },
      "source": [
        "max_score_1 = 0\n",
        "max_score_2 = 0\n",
        "i_sample_remove_1 = 1\n",
        "i_sample_remove_2 = 1\n",
        "\n",
        "for i in range(40000, 50000, 1):\n",
        "  X_train = sorted_data[i:, 0]\n",
        "  y_train = sorted_data[i:, 1]\n",
        "  model = LinearRegression()\n",
        "  model.fit(X_train.reshape(-1, 1), y_train)\n",
        "  score_1 = r2_score(y_test1, model.predict(X_test1.reshape(-1, 1)))\n",
        "  score_2 = r2_score(y_test2, model.predict(X_test2.reshape(-1, 1)))\n",
        "  if score_1 > max_score_1:\n",
        "    i_sample_remove_1 = i\n",
        "    max_score_1 = score_1\n",
        "  if score_2 > max_score_2:\n",
        "    i_sample_remove_2 = i\n",
        "    max_score_2 = score_2\n",
        "\n",
        "print('score 1 tốt nhất là: ', max_score_1, '. Sau khi loại các phần từ đầu',i_sample_remove_1)\n",
        "print('score 2 tốt nhất là: ', max_score_2, '. Sau khi loại các phần từ đầu',i_sample_remove_2)"
      ],
      "execution_count": 32,
      "outputs": [
        {
          "output_type": "stream",
          "name": "stdout",
          "text": [
            "score 1 tốt nhất là:  0.9682738182420646 . Sau khi loại các phần từ đầu 42883\n",
            "score 2 tốt nhất là:  0.622139907742429 . Sau khi loại các phần từ đầu 42883\n"
          ]
        }
      ]
    },
    {
      "cell_type": "markdown",
      "metadata": {
        "id": "4VAZJLilHvMo"
      },
      "source": [
        "Sau khi loại 42883 sample đầu tiên thì độ đánh giá r2 cao hơn rất nhiều nhưng vẫn chưa đủ chính xác."
      ]
    },
    {
      "cell_type": "markdown",
      "metadata": {
        "id": "CZ04WzgUZpQK"
      },
      "source": [
        "#### hướng dùng polynomial regression"
      ]
    },
    {
      "cell_type": "markdown",
      "metadata": {
        "id": "wIxMBknkZzTa"
      },
      "source": [
        "* đầu tiên thử công thức: \\\n",
        "(**công thức 1**)\n",
        "\n",
        "y = 𝞱_1 * x + 𝞱_2 * x^2 + 𝞱_3 * sqrt(x) + 𝞱_4 * log(x) + 𝞱_5 * xlog(x) + 𝞱_0 \n",
        "\n",
        "\n",
        "Đánh giá được:\n",
        "\n",
        "Đánh giá r2 trên tập data3:  0.9830863275910554 \\\n",
        "Đánh giá r2 trên tập data4:  0.9351255460495257\n",
        "\n",
        "* tiếp theo thử công thức: \\\n",
        "(**công thức 2**)\n",
        "\n",
        "y = 𝞱_1 * x + 𝞱_2 * sqrt(x) + 𝞱_3 * log(x) + 𝞱_4 * sqrt(sqrt(x)) + 𝞱_5 * sqrt(x) * log(x) + 𝞱_0 \n",
        "\n",
        "\n",
        "Đánh giá được:\n",
        "\n",
        "Đánh giá r2 trên tập data3:  0.9875227004480762 \\\n",
        "Đánh giá r2 trên tập data4:  0.9500210308905487\n",
        "\n",
        "* cuối cùng thử công thức: \\\n",
        "(**công thức 3**)\n",
        "\n",
        "y = 𝞱_1 * x + 𝞱_2 * sqrt(sqrt(x)) + 𝞱_3 * sqrt(x) + 𝞱_4 * log(x) + 𝞱_5 * xlog(x) + 𝞱_0 \n",
        "\n",
        "Đánh giá được: \n",
        "\n",
        "Đánh giá r2 trên tập data3:  0.9852075512126088 \\\n",
        "Đánh giá r2 trên tập data4:  0.9536999507355562"
      ]
    },
    {
      "cell_type": "code",
      "metadata": {
        "id": "YSckhNXWZoqP"
      },
      "source": [
        "def poly_transform(X):\n",
        "  # thử lần 1\n",
        "  # X1 = X\n",
        "  # X2 = np.sqrt(X)\n",
        "  # X3 = np.log(X)\n",
        "  # X4 = X ** 1/4\n",
        "  # X5 = np.sqrt(X) * np.log(X)\n",
        "\n",
        "  # thử lần 2\n",
        "  # X1 = X\n",
        "  # X2 = X * X\n",
        "  # X3 = np.sqrt(X)\n",
        "  # X4 = np.log(X)\n",
        "  # X5 = X * np.log(X)\n",
        "\n",
        "  # thử lần 3\n",
        "  X1 = X\n",
        "  X2 = X ** 1/4\n",
        "  X3 = np.sqrt(X)\n",
        "  X4 = np.log(X)\n",
        "  X5 = X * np.log(X)\n",
        "\n",
        "  new_X = np.array([X1, X2, X3, X4, X5])\n",
        "  new_X = np.transpose(new_X)\n",
        "\n",
        "  return new_X"
      ],
      "execution_count": 142,
      "outputs": []
    },
    {
      "cell_type": "code",
      "metadata": {
        "colab": {
          "base_uri": "https://localhost:8080/"
        },
        "id": "ucAYnQI-LydM",
        "outputId": "09348887-8ea9-45ba-bed9-73feec208aa6"
      },
      "source": [
        "poly_X = poly_transform(X)\n",
        "\n",
        "poly_linear_reg = LinearRegression()\n",
        "poly_linear_reg.fit(poly_X, y)"
      ],
      "execution_count": 131,
      "outputs": [
        {
          "output_type": "execute_result",
          "data": {
            "text/plain": [
              "LinearRegression()"
            ]
          },
          "metadata": {},
          "execution_count": 131
        }
      ]
    },
    {
      "cell_type": "code",
      "metadata": {
        "colab": {
          "base_uri": "https://localhost:8080/"
        },
        "id": "-9xYztoUPgEm",
        "outputId": "19a4d424-9508-4aac-9ff1-39860c9b1935"
      },
      "source": [
        "y_pred_poli_1 = poly_linear_reg.predict(poly_transform(X_test1))\n",
        "y_pred_poli_2 = poly_linear_reg.predict(poly_transform(X_test2))\n",
        "\n",
        "print('Đánh giá r2 trên tập data3: ', r2_score(y_test1, y_pred_poli_1))\n",
        "print('Đánh giá r2 trên tập data4: ', r2_score(y_test2, y_pred_poli_2))"
      ],
      "execution_count": 132,
      "outputs": [
        {
          "output_type": "stream",
          "name": "stdout",
          "text": [
            "Đánh giá r2 trên tập data3:  0.9852075512126088\n",
            "Đánh giá r2 trên tập data4:  0.9536999507355562\n"
          ]
        }
      ]
    },
    {
      "cell_type": "code",
      "metadata": {
        "colab": {
          "base_uri": "https://localhost:8080/",
          "height": 606
        },
        "id": "YAIxj_a4Qu0X",
        "outputId": "bf1a15f2-0daa-48db-fa30-3e207940045b"
      },
      "source": [
        "X_plot = np.array([200, 100000000])\n",
        "y_plot = poly_linear_reg.predict(poly_transform(X_plot))\n",
        "\n",
        "plt.figure(figsize=(10, 10))\n",
        "# tập train\n",
        "plt.scatter(X, y)\n",
        "# tập data3\n",
        "plt.scatter(X_test1, y_test1)\n",
        "# tập data4\n",
        "plt.scatter(X_test2, y_test2)\n",
        "# đường dự đoán của model linear_reg\n",
        "plt.plot(X_plot, y_plot, c='r')\n",
        "plt.xlabel(\"Kích cỡ chương trình\")\n",
        "plt.ylabel(\"thời gian thực thi\")\n",
        "plt.show()"
      ],
      "execution_count": 133,
      "outputs": [
        {
          "output_type": "display_data",
          "data": {
            "image/png": "[encoded data removed]",
            "text/plain": [
              "<Figure size 720x720 with 1 Axes>"
            ]
          },
          "metadata": {
            "needs_background": "light"
          }
        }
      ]
    },
    {
      "cell_type": "markdown",
      "metadata": {
        "id": "6fDVaqmxWzjy"
      },
      "source": [
        "Khi sử dụng polynomial regression thì độ đánh giá r2 tăng lên đáng kể.\n",
        "\n",
        "Sau khi thử nghiệm và thay đổi các công thức thì công thứ 2 và công thứ thứ 3 cho kết quả tốt nhất trong các công thức đã thử. Điểm đánh giá r2 của **công thức 2** trên bộ **data3** cao hơn, còn điểm đánh giá r2 của **công thức 3** trên bộ **data4** lại cao hơn"
      ]
    },
    {
      "cell_type": "markdown",
      "metadata": {
        "id": "saFIoMm3YwER"
      },
      "source": [
        "#### dùng cả 2 phương pháp trên"
      ]
    },
    {
      "cell_type": "markdown",
      "metadata": {
        "id": "RmaMkzRGagOV"
      },
      "source": [
        "thử loại bỏ các data từ đầu đến i, i từ khoảng 1 đến 70000 nhảy mỗi bước là 1000\n",
        "\n",
        "sử dụng công thức thứ 3"
      ]
    },
    {
      "cell_type": "code",
      "metadata": {
        "colab": {
          "base_uri": "https://localhost:8080/"
        },
        "id": "C9DQV9_wY3vk",
        "outputId": "85108cf3-d59d-4f16-eea3-d0cde351a5c9"
      },
      "source": [
        "max_score_1 = 0\n",
        "max_score_2 = 0\n",
        "i_sample_remove_1 = 1\n",
        "i_sample_remove_2 = 1\n",
        "\n",
        "for i in range(0, 70000, 1000):\n",
        "  X_train = sorted_data[i:, 0]\n",
        "  y_train = sorted_data[i:, 1]\n",
        "  model = LinearRegression()\n",
        "  model.fit(poly_transform(X_train), y_train)\n",
        "  score_1 = r2_score(y_test1, model.predict(poly_transform(X_test1)))\n",
        "  score_2 = r2_score(y_test2, model.predict(poly_transform(X_test2)))\n",
        "  # print(score_1, score_2)\n",
        "  if score_1 > max_score_1:\n",
        "    i_sample_remove_1 = i\n",
        "    max_score_1 = score_1\n",
        "  if score_2 > max_score_2:\n",
        "    i_sample_remove_2 = i\n",
        "    max_score_2 = score_2\n",
        "\n",
        "print('score 1 tốt nhất là: ', max_score_1, '. Sau khi loại các phần từ đầu',i_sample_remove_1)\n",
        "print('score 2 tốt nhất là: ', max_score_2, '. Sau khi loại các phần từ đầu',i_sample_remove_2)"
      ],
      "execution_count": 138,
      "outputs": [
        {
          "output_type": "stream",
          "name": "stdout",
          "text": [
            "score 1 tốt nhất là:  0.9852075512126087 . Sau khi loại các phần từ đầu 0\n",
            "score 2 tốt nhất là:  0.9536999507355556 . Sau khi loại các phần từ đầu 0\n"
          ]
        }
      ]
    },
    {
      "cell_type": "markdown",
      "metadata": {
        "id": "OAato_kha0op"
      },
      "source": [
        "thử với loại bỏ các giá trị thứ i, i từ 0 đến 1000, bước nhảy 1\n",
        "\n",
        "vẫn dùng công thức 3"
      ]
    },
    {
      "cell_type": "code",
      "metadata": {
        "colab": {
          "base_uri": "https://localhost:8080/"
        },
        "id": "a0dD2VXzazx6",
        "outputId": "95cdbed4-aa6e-4f9d-ee94-baa32b9f1ffd"
      },
      "source": [
        "max_score_1 = 0\n",
        "max_score_2 = 0\n",
        "i_sample_remove_1 = 1\n",
        "i_sample_remove_2 = 1\n",
        "\n",
        "for i in range(0, 1000, 1):\n",
        "  X_train = sorted_data[i:, 0]\n",
        "  y_train = sorted_data[i:, 1]\n",
        "  model = LinearRegression()\n",
        "  model.fit(poly_transform(X_train), y_train)\n",
        "  score_1 = r2_score(y_test1, model.predict(poly_transform(X_test1)))\n",
        "  score_2 = r2_score(y_test2, model.predict(poly_transform(X_test2)))\n",
        "  # print(score_1, score_2)\n",
        "  if score_1 > max_score_1:\n",
        "    i_sample_remove_1 = i\n",
        "    max_score_1 = score_1\n",
        "  if score_2 > max_score_2:\n",
        "    i_sample_remove_2 = i\n",
        "    max_score_2 = score_2\n",
        "\n",
        "print('score 1 tốt nhất là: ', max_score_1, '. Sau khi loại các phần từ đầu',i_sample_remove_1)\n",
        "print('score 2 tốt nhất là: ', max_score_2, '. Sau khi loại các phần từ đầu',i_sample_remove_2)"
      ],
      "execution_count": 143,
      "outputs": [
        {
          "output_type": "stream",
          "name": "stdout",
          "text": [
            "score 1 tốt nhất là:  0.9852955277092482 . Sau khi loại các phần từ đầu 222\n",
            "score 2 tốt nhất là:  0.9539931205205119 . Sau khi loại các phần từ đầu 222\n"
          ]
        }
      ]
    },
    {
      "cell_type": "markdown",
      "metadata": {
        "id": "1TVEQWp8bW1F"
      },
      "source": [
        "Sau khi kết hợp cả 2 phương pháp thì loại bỏ 222 phần tử có thời gian thực thi nhỏ nhất, cộng với việc sử dụng công thức thứ 3 cho ra kết quả tốt nhất"
      ]
    }
  ]
}